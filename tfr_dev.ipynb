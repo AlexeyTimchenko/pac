{
 "cells": [
  {
   "cell_type": "markdown",
   "id": "9820326e-ec30-4a33-917f-5aab3815eb43",
   "metadata": {
    "jp-MarkdownHeadingCollapsed": true,
    "tags": []
   },
   "source": [
    "## Imports"
   ]
  },
  {
   "cell_type": "code",
   "execution_count": null,
   "id": "60e15246-ffb0-4db6-8fc9-406f19ab980c",
   "metadata": {},
   "outputs": [],
   "source": [
    "import numpy as np\n",
    "import pandas as pd\n",
    "\n",
    "#!pip install pyEDFlib\n",
    "import pyedflib\n",
    "#!pip install ipympl\n",
    "\n",
    "from scipy.fftpack import fft, ifft, fftfreq\n",
    "from scipy import signal as sg\n",
    "from scipy.ndimage.filters import gaussian_filter1d, gaussian_filter\n",
    "from scipy.stats import binned_statistic, entropy, norm\n",
    "from statsmodels.stats.multitest import multipletests\n",
    "import statsmodels.api as sm\n",
    "from sklearn.linear_model import LinearRegression\n",
    "\n",
    "import sys\n",
    "import os\n",
    "import time\n",
    "#import pickle\n",
    "import dill as pickle\n",
    "\n",
    "import concurrent.futures\n",
    "from numba import jit, njit, prange\n",
    "\n",
    "from tqdm.notebook import tqdm\n",
    "from collections import defaultdict\n",
    "import itertools\n",
    "\n",
    "import matplotlib.pyplot as plt\n",
    "import seaborn as sns\n",
    "#from IPython.display import display\n",
    "sns.set(context='notebook', style='ticks', palette='bright', font='sans-serif', font_scale=1, color_codes=True, rc=None)\n",
    "plt.rcParams['figure.figsize'] = (10, 6)\n",
    "\n",
    "#print(\"SYS.PATH: \", sys.path[:3])\n",
    "#sys.path.insert(0, r\"C:\\Users\\User\\[[Python]]\\[AlexeyT]\\PAC_PROJECT\")\n",
    "\n",
    "from utility_functions import *\n",
    "#from class_lfp import LFP\n",
    "#from class_pac import MyPAC\n",
    "#from class_patient import Patient\n",
    "%run utility_functions.py\n",
    "%run lfp_class.py\n",
    "%run pac_class.py\n",
    "%run patient_class.py\n",
    "\n",
    "print(\"Succesfully imported libraries and modules\\n\")"
   ]
  },
  {
   "cell_type": "markdown",
   "id": "1c659434-33de-4887-9383-33853635d1a0",
   "metadata": {},
   "source": [
    "## Time-frequency"
   ]
  },
  {
   "cell_type": "code",
   "execution_count": 76,
   "id": "1fca2558-c5fc-47de-aae7-593ac2cff227",
   "metadata": {},
   "outputs": [],
   "source": [
    "def morlet_wavelet(freq, n_cycles, fs=256):\n",
    "    ts       = np.arange(-1, 1 + 1/fs, 1/fs)\n",
    "    s        = n_cycles / (2*np.pi*freq)\n",
    "    sine     = np.exp(1j * 2*np.pi*freq * ts)\n",
    "    gaussian = np.exp((-1) * (1/2) * (ts/s)**2)\n",
    "    wavelet  = sine * gaussian\n",
    "    return ts, wavelet\n",
    "\n",
    "\n",
    "def tfr_morlet_wavelet(data, freqs, n_cycles_list=None, fs=256):\n",
    "    \"\"\"\n",
    "    Computes time-frequency representation (n_freqs, n_times) using wavelet-transform (morlet wavelet convolution)\n",
    "    \"\"\"\n",
    "    if n_cycles_list is None:\n",
    "        n_cycles_list = np.ones(freqs.size) * 7 # default 7 cycles\n",
    "        \n",
    "    n_freqs, n_times = freqs.size, data.size\n",
    "    tfr_data = np.zeros((n_freqs, n_times))\n",
    "    \n",
    "    for i_freq in range(n_freqs):\n",
    "        _, wavelet = morlet_wavelet(freqs[i_freq], n_cycles_list[i_freq], fs)\n",
    "        conv_result = signal.convolve(data, wavelet, 'same') \n",
    "        tfr_data[i_freq, :] = np.abs(conv_result) ** 2\n",
    "        \n",
    "    tfr_freqs = freqs\n",
    "    tfr_times = np.arange(n_times) / fs\n",
    "        \n",
    "    return tfr_data, tfr_freqs, tfr_times\n",
    "        \n",
    "\n",
    "\n",
    "def plot_tfr(tfr_data, tfr_freqs, tfr_times, ax, title='TF-representation'):\n",
    "    \"\"\"Do not forget to adjust tfr_times to real times before executing. \n",
    "    This function assumes tfr_times are in SECONDS and begin from t_start sec\"\n",
    "    \"\"\"\n",
    "    \n",
    "    x_min, x_max = tfr_times[0], tfr_times[-1]\n",
    "    y_min, y_max = tfr_freqs[0], tfr_freqs[-1]\n",
    "    \n",
    "    ax.set_title(title)\n",
    "    ax.imshow(tfr_data, \n",
    "               origin='lower', \n",
    "               cmap=plt.cm.jet, \n",
    "               aspect='auto', \n",
    "               interpolation='bilinear', \n",
    "               extent = [x_min , x_max, y_min , y_max])\n",
    "    ax.set_xlabel(\"time, ms\")\n",
    "    ax.set_ylabel(\"freq, Hz\")"
   ]
  },
  {
   "cell_type": "code",
   "execution_count": 87,
   "id": "29a5ff83-8a5e-49fa-bb07-66e568b568dd",
   "metadata": {},
   "outputs": [
    {
     "data": {
      "image/png": "[encoded data removed]",
      "text/plain": [
       "<Figure size 360x360 with 1 Axes>"
      ]
     },
     "metadata": {},
     "output_type": "display_data"
    }
   ],
   "source": [
    "freqs = np.logspace(np.log10(2), np.log10(450), 30)\n",
    "\n",
    "tfr_data, tfr_freqs, tfr_times = tfr_morlet_wavelet(lfp.data, freqs, fs=2000)\n",
    "\n",
    "cut_time = 2000 * 180\n",
    "\n",
    "fig, axes = plt.subplots(1, 1, figsize=(5, 5))\n",
    "plot_tfr(tfr_data[:, :cut_time], tfr_freqs, tfr_times[:cut_time], ax=axes)\n",
    "\n"
   ]
  },
  {
   "cell_type": "code",
   "execution_count": 83,
   "id": "13f3e975-adf0-454d-a5c3-569b7f82a0ed",
   "metadata": {},
   "outputs": [
    {
     "data": {
      "text/plain": [
       "array([4.93340967e+00, 7.58419103e+00, 1.16592696e+01, 1.79239378e+01,\n",
       "       2.75546889e+01, 4.23601603e+01, 6.51207926e+01, 1.00110991e+02,\n",
       "       1.53901851e+02, 2.36595198e+02, 3.63720692e+02, 5.59152269e+02,\n",
       "       8.59591623e+02, 1.32146072e+03, 2.03149772e+03, 3.12304630e+03,\n",
       "       4.80109728e+03, 7.38078558e+03, 1.13465720e+04, 1.74432239e+04,\n",
       "       2.68156814e+04, 4.12240750e+04, 6.33742748e+04, 9.74260479e+04,\n",
       "       1.49774255e+05, 2.30249795e+05, 3.53965826e+05, 5.44155994e+05,\n",
       "       8.36537665e+05, 1.28601959e+06])"
      ]
     },
     "execution_count": 83,
     "metadata": {},
     "output_type": "execute_result"
    }
   ],
   "source": [
    "freqs"
   ]
  },
  {
   "cell_type": "code",
   "execution_count": 81,
   "id": "60240471-9423-4c8c-bf8c-e0c1e464a82f",
   "metadata": {},
   "outputs": [
    {
     "data": {
      "text/plain": [
       "array([1.00000000e+002, 2.80721620e+017, 7.88046282e+032, 2.21221629e+048,\n",
       "       6.21016942e+063, 1.74332882e+079, 4.89390092e+094, 1.37382380e+110,\n",
       "       3.85662042e+125, 1.08263673e+141, 3.03919538e+156, 8.53167852e+171,\n",
       "       2.39502662e+187, 6.72335754e+202, 1.88739182e+218, 5.29831691e+233,\n",
       "       1.48735211e+249, 4.17531894e+264, 1.17210230e+280, 3.29034456e+295,\n",
       "                   inf,             inf,             inf,             inf,\n",
       "                   inf,             inf,             inf,             inf,\n",
       "                   inf,             inf])"
      ]
     },
     "execution_count": 81,
     "metadata": {},
     "output_type": "execute_result"
    }
   ],
   "source": [
    "tfr_freqs"
   ]
  }
 ],
 "metadata": {
  "kernelspec": {
   "display_name": "Python 3 (ipykernel)",
   "language": "python",
   "name": "python3"
  },
  "language_info": {
   "codemirror_mode": {
    "name": "ipython",
    "version": 3
   },
   "file_extension": ".py",
   "mimetype": "text/x-python",
   "name": "python",
   "nbconvert_exporter": "python",
   "pygments_lexer": "ipython3",
   "version": "3.8.11"
  }
 },
 "nbformat": 4,
 "nbformat_minor": 5
}
