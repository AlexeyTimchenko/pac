{
 "cells": [
  {
   "cell_type": "code",
   "execution_count": 1,
   "id": "eb564702-2d5c-4969-8c79-e08de11d6996",
   "metadata": {},
   "outputs": [
    {
     "name": "stdout",
     "output_type": "stream",
     "text": [
      "Succesfully imported libraries and modules\n",
      "\n"
     ]
    }
   ],
   "source": [
    "import numpy as np\n",
    "import pandas as pd\n",
    "\n",
    "#!pip install pyEDFlib\n",
    "import pyedflib\n",
    "#!pip install ipympl\n",
    "\n",
    "from scipy.fftpack import fft, ifft, fftfreq\n",
    "from scipy import signal as sg\n",
    "from scipy.ndimage.filters import gaussian_filter1d, gaussian_filter\n",
    "from scipy.stats import binned_statistic, entropy, norm\n",
    "from statsmodels.stats.multitest import multipletests\n",
    "import statsmodels.api as sm\n",
    "from sklearn.linear_model import LinearRegression\n",
    "\n",
    "import sys\n",
    "import os\n",
    "import time\n",
    "#import pickle\n",
    "import dill as pickle\n",
    "\n",
    "import concurrent.futures\n",
    "from numba import jit, njit, prange\n",
    "\n",
    "from tqdm.notebook import tqdm\n",
    "from collections import defaultdict\n",
    "import itertools\n",
    "\n",
    "import matplotlib.pyplot as plt\n",
    "import seaborn as sns\n",
    "#from IPython.display import display\n",
    "sns.set(context='notebook', style='ticks', palette='bright', font='sans-serif', font_scale=1, color_codes=True, rc=None)\n",
    "plt.rcParams['figure.figsize'] = (10, 6)\n",
    "\n",
    "#print(\"SYS.PATH: \", sys.path[:3])\n",
    "#sys.path.insert(0, r\"C:\\Users\\User\\[[Python]]\\[AlexeyT]\\PAC_PROJECT\")\n",
    "\n",
    "from utility_functions import *\n",
    "#from class_lfp import LFP\n",
    "#from class_pac import MyPAC\n",
    "#from class_patient import Patient\n",
    "%run utility_functions.py\n",
    "%run lfp_class.py\n",
    "%run pac_class.py\n",
    "%run patient_class.py\n",
    "\n",
    "print(\"Succesfully imported libraries and modules\\n\")"
   ]
  },
  {
   "cell_type": "markdown",
   "id": "0c9bb588-c933-4055-9742-b6fe69574c7c",
   "metadata": {},
   "source": [
    "We want to correlate spectral power and PAC intensity for a given frequency range.\n",
    "\n",
    "Spectral power can be calculated 2 ways:\n",
    "1) Sliding window over frequency and averaging spectral power (I suggest window size equal to 1.5 * bandwidth of PAC estimation filter for phase-giving oscillation)\n",
    "2) FOOOF 1/f removal and estimation of power of whitened spectrum and/or sliding window spectral power mean\n",
    "\n",
    "PAC intensity could be calculated as following:\n",
    "* We don't consider y-axis frequencies below 150 Hz (N:M coupling occurs mostly below that point)\n",
    "* Average or max-value (or any matrix norm essentially) of **significant** PAC in every column corresponding to the phase-giving frequency\n",
    "\n"
   ]
  },
  {
   "cell_type": "code",
   "execution_count": null,
   "id": "89cc38ba-9075-4f68-8f7e-3d5c8ca18bc8",
   "metadata": {},
   "outputs": [],
   "source": []
  }
 ],
 "metadata": {
  "kernelspec": {
   "display_name": "Python 3 (ipykernel)",
   "language": "python",
   "name": "python3"
  },
  "language_info": {
   "codemirror_mode": {
    "name": "ipython",
    "version": 3
   },
   "file_extension": ".py",
   "mimetype": "text/x-python",
   "name": "python",
   "nbconvert_exporter": "python",
   "pygments_lexer": "ipython3",
   "version": "3.8.11"
  }
 },
 "nbformat": 4,
 "nbformat_minor": 5
}
