{
 "cells": [
  {
   "cell_type": "code",
   "execution_count": 1,
   "id": "06541f07-6476-4e54-9d7a-ebbb247a01c3",
   "metadata": {},
   "outputs": [
    {
     "name": "stdout",
     "output_type": "stream",
     "text": [
      "Succesfully imported libraries and modules\n",
      "\n"
     ]
    }
   ],
   "source": [
    "%run imports.py"
   ]
  },
  {
   "cell_type": "markdown",
   "id": "f1441d68-88fa-466d-a9e9-d0914eae9e5a",
   "metadata": {},
   "source": [
    "Create 'im' directory in each patient data folder"
   ]
  },
  {
   "cell_type": "code",
   "execution_count": 11,
   "id": "9a3906f8-a456-4505-8b42-d95f980d0dd0",
   "metadata": {},
   "outputs": [],
   "source": [
    "with open(\"path_data.txt\", \"r\") as f:\n",
    "    data_dir = f.readline()\n",
    "\n",
    "for i_patient in range(1, 7):\n",
    "    try:\n",
    "        os.mkdir(os.path.join(data_dir, f\"Patient{i_patient}\", \"im\"))\n",
    "    except:\n",
    "        continue"
   ]
  },
  {
   "cell_type": "markdown",
   "id": "99b7c5d4-9a31-4a9d-838f-80e5ded61766",
   "metadata": {},
   "source": [
    "## Patient 1"
   ]
  },
  {
   "cell_type": "code",
   "execution_count": 2,
   "id": "d6e061ba-615b-44b6-bde8-a69c6769ab4b",
   "metadata": {},
   "outputs": [
    {
     "name": "stdout",
     "output_type": "stream",
     "text": [
      "Patient directory:  D:\\LAB\\AlexPAC\\data\\Patient1\n"
     ]
    }
   ],
   "source": [
    "p1 = load_patient(1)"
   ]
  },
  {
   "cell_type": "markdown",
   "id": "60fc790e-9031-4b96-b038-4c1c5d166cce",
   "metadata": {},
   "source": [
    "Test the PAC picture with spectra"
   ]
  },
  {
   "cell_type": "code",
   "execution_count": null,
   "id": "6774dbf8-25fb-4f15-a230-25fc79eebd24",
   "metadata": {},
   "outputs": [],
   "source": []
  },
  {
   "cell_type": "markdown",
   "id": "af53bc44-510d-433e-a350-1609610c8f58",
   "metadata": {},
   "source": [
    "### 1DayOFF vs ON Diag"
   ]
  },
  {
   "cell_type": "code",
   "execution_count": 27,
   "id": "742e4ce0-c00a-4050-b4c7-573ad2dde935",
   "metadata": {},
   "outputs": [],
   "source": [
    "%matplotlib inline\n",
    "# 1Day Rest OFF vs ON\n",
    "sns.set(context='notebook')\n",
    "\n",
    "patient = p1\n",
    "day = 1\n",
    "conditions = [f\"{day}Day OFF Rest 180sec\", f\"{day}Day ON Rest 180sec\"]\n",
    "folder = os.path.join(patient.root_dir, \"im\", f\"{day}day_OFFvsON\", \"pac_diag\")\n",
    "\n",
    "try:\n",
    "    os.makedirs(folder)\n",
    "except:\n",
    "    pass\n",
    "\n",
    "day, ldopa, movement = retrieve_condition_name(condition)\n",
    "counter = 1\n",
    "for i, placement in enumerate(patient.sorted_placements):\n",
    "    fig, axes = plt.subplots(1, 2, figsize=(11, 4.5))\n",
    "    plt.suptitle(f\"PAC; {patient.name}; {day}; {movement}; {placement}\")\n",
    "    for j, condition in enumerate(conditions):\n",
    "        lfp = patient.lfp[condition][placement]\n",
    "        pac = patient.pac[condition][placement][placement]\n",
    "        ax = axes[j]\n",
    "        day, ldopa, movement = retrieve_condition_name(condition)\n",
    "        title = f\"{ldopa}\"  # without 180sec\n",
    "        ax.set_title(title)\n",
    "\n",
    "        im = comodulogram(pac.pac_matrix.copy(), \n",
    "                     pac.beta_params, \n",
    "                     pac.hfo_params, \n",
    "                     pvalues=pac.pvalues, \n",
    "                     significant=True, significance=0.01,\n",
    "                     vmax=0.00025, smooth=True,\n",
    "                     ax=ax)\n",
    "        ax.set_xlabel(r\"$f_p$, Hz\")\n",
    "        ax.set_ylabel(r\"$f_A$, Hz\", rotation=0, labelpad=20)\n",
    "        cbar = fig.colorbar(im, ax=ax)\n",
    "        cbar.formatter.set_powerlimits((0, 0))\n",
    "        ax.grid()\n",
    "    plt.tight_layout()\n",
    "    number = str(counter//100) + str(counter//10) + str(counter % 10) \n",
    "    fig_name = f\"{number}.P{patient.name[-1]}_PAC_OFFvsON_{placement}.png\"\n",
    "\n",
    "    plt.savefig(os.path.join(patient.root_dir, \"im\", folder, fig_name));\n",
    "    plt.close(fig)\n",
    "    counter += 1"
   ]
  },
  {
   "cell_type": "markdown",
   "id": "fb006fa8-eb10-410e-be44-c7ed89301af2",
   "metadata": {},
   "source": [
    "### 5 Day OFF vs ON Diag"
   ]
  },
  {
   "cell_type": "code",
   "execution_count": 28,
   "id": "ac2ec719-14a4-4af6-8ffe-9a5cf0cf7764",
   "metadata": {},
   "outputs": [],
   "source": [
    "%matplotlib inline\n",
    "# 1Day Rest OFF vs ON\n",
    "sns.set(context='notebook')\n",
    "\n",
    "patient = p1\n",
    "day = 5\n",
    "conditions = [f\"{day}Day OFF Rest 180sec\", f\"{day}Day ON Rest 180sec\"]\n",
    "folder = os.path.join(patient.root_dir, \"im\", f\"{day}day_OFFvsON\", \"pac_diag\")\n",
    "try:\n",
    "    os.makedirs(folder)\n",
    "except:\n",
    "    pass\n",
    "\n",
    "day, ldopa, movement = retrieve_condition_name(condition)\n",
    "counter = 1\n",
    "for i, placement in enumerate(patient.sorted_placements):\n",
    "    fig, axes = plt.subplots(1, 2, figsize=(11, 4.5))\n",
    "    plt.suptitle(f\"PAC; {patient.name}; {day}; {movement}; {placement}\")\n",
    "    for j, condition in enumerate(conditions):\n",
    "        lfp = patient.lfp[condition][placement]\n",
    "        pac = patient.pac[condition][placement][placement]\n",
    "        ax = axes[j]\n",
    "        day, ldopa, movement = retrieve_condition_name(condition)\n",
    "        title = f\"{ldopa}\"  # without 180sec\n",
    "        ax.set_title(title)\n",
    "\n",
    "        im = comodulogram(pac.pac_matrix.copy(), \n",
    "                     pac.beta_params, \n",
    "                     pac.hfo_params, \n",
    "                     pvalues=pac.pvalues, \n",
    "                     significant=True, significance=0.01,\n",
    "                     vmax=0.00025, smooth=True,\n",
    "                     ax=ax)\n",
    "        ax.set_xlabel(r\"$f_p$, Hz\")\n",
    "        ax.set_ylabel(r\"$f_A$, Hz\", rotation=0, labelpad=20)\n",
    "        cbar = fig.colorbar(im, ax=ax)\n",
    "        cbar.formatter.set_powerlimits((0, 0))\n",
    "        ax.grid()\n",
    "    plt.tight_layout()\n",
    "    number = str(counter//100) + str(counter//10) + str(counter % 10) \n",
    "    fig_name = f\"{number}.P{patient.name[-1]}_PAC_OFFvsON_{placement}.png\"\n",
    "\n",
    "    plt.savefig(os.path.join(patient.root_dir, \"im\", folder, fig_name));\n",
    "    plt.close(fig)\n",
    "    counter += 1"
   ]
  },
  {
   "cell_type": "markdown",
   "id": "266d7e93-485a-4654-a9e0-01abc9828523",
   "metadata": {},
   "source": [
    "## Patient 2"
   ]
  },
  {
   "cell_type": "code",
   "execution_count": 29,
   "id": "905774da-9f97-417b-9692-2460024d0b6a",
   "metadata": {},
   "outputs": [
    {
     "name": "stdout",
     "output_type": "stream",
     "text": [
      "Patient directory:  D:\\LAB\\AlexPAC\\data\\Patient2\n"
     ]
    }
   ],
   "source": [
    "p2 = load_patient(2)"
   ]
  },
  {
   "cell_type": "markdown",
   "id": "c0029cf5-b278-4e4d-956d-b93add09caff",
   "metadata": {},
   "source": [
    "### 1DayOFF vs ON Diag"
   ]
  },
  {
   "cell_type": "code",
   "execution_count": 30,
   "id": "f25c877e-ba79-47a9-b5c1-f7df82b427a1",
   "metadata": {},
   "outputs": [],
   "source": [
    "%matplotlib inline\n",
    "# 1Day Rest OFF vs ON\n",
    "sns.set(context='notebook')\n",
    "\n",
    "patient = p2\n",
    "day = 1\n",
    "conditions = [f\"{day}Day OFF Rest 180sec\", f\"{day}Day ON Rest 180sec\"]\n",
    "folder = os.path.join(patient.root_dir, \"im\", f\"{day}day_OFFvsON\", \"pac_diag\")\n",
    "\n",
    "try:\n",
    "    os.makedirs(folder)\n",
    "except:\n",
    "    pass\n",
    "\n",
    "day, ldopa, movement = retrieve_condition_name(condition)\n",
    "counter = 1\n",
    "for i, placement in enumerate(patient.sorted_placements):\n",
    "    fig, axes = plt.subplots(1, 2, figsize=(11, 4.5))\n",
    "    plt.suptitle(f\"PAC; {patient.name}; {day}; {movement}; {placement}\")\n",
    "    for j, condition in enumerate(conditions):\n",
    "        lfp = patient.lfp[condition][placement]\n",
    "        pac = patient.pac[condition][placement][placement]\n",
    "        ax = axes[j]\n",
    "        day, ldopa, movement = retrieve_condition_name(condition)\n",
    "        title = f\"{ldopa}\"  # without 180sec\n",
    "        ax.set_title(title)\n",
    "\n",
    "        im = comodulogram(pac.pac_matrix.copy(), \n",
    "                     pac.beta_params, \n",
    "                     pac.hfo_params, \n",
    "                     pvalues=pac.pvalues, \n",
    "                     significant=True, significance=0.01,\n",
    "                     vmax=0.00025, smooth=True,\n",
    "                     ax=ax)\n",
    "        ax.set_xlabel(r\"$f_p$, Hz\")\n",
    "        ax.set_ylabel(r\"$f_A$, Hz\", rotation=0, labelpad=20)\n",
    "        cbar = fig.colorbar(im, ax=ax)\n",
    "        cbar.formatter.set_powerlimits((0, 0))\n",
    "        ax.grid()\n",
    "    plt.tight_layout()\n",
    "    number = str(counter//100) + str(counter//10) + str(counter % 10) \n",
    "    fig_name = f\"{number}.P{patient.name[-1]}_PAC_OFFvsON_{placement}.png\"\n",
    "\n",
    "    plt.savefig(os.path.join(patient.root_dir, \"im\", folder, fig_name));\n",
    "    plt.close(fig)\n",
    "    counter += 1"
   ]
  },
  {
   "cell_type": "markdown",
   "id": "fd1c2628-a41c-466b-98f3-54f43bbc07c8",
   "metadata": {},
   "source": [
    "### 5 Day OFF vs ON Diag"
   ]
  },
  {
   "cell_type": "code",
   "execution_count": 31,
   "id": "a28f4cf4-e530-439e-9c69-100ed35a4af6",
   "metadata": {},
   "outputs": [],
   "source": [
    "%matplotlib inline\n",
    "# 1Day Rest OFF vs ON\n",
    "sns.set(context='notebook')\n",
    "\n",
    "patient = p2\n",
    "day = 5\n",
    "conditions = [f\"{day}Day OFF Rest 180sec\", f\"{day}Day ON Rest 180sec\"]\n",
    "folder = os.path.join(patient.root_dir, \"im\", f\"{day}day_OFFvsON\", \"pac_diag\")\n",
    "\n",
    "try:\n",
    "    os.makedirs(folder)\n",
    "except:\n",
    "    pass\n",
    "\n",
    "day, ldopa, movement = retrieve_condition_name(condition)\n",
    "counter = 1\n",
    "for i, placement in enumerate(patient.sorted_placements):\n",
    "    fig, axes = plt.subplots(1, 2, figsize=(11, 4.5))\n",
    "    plt.suptitle(f\"PAC; {patient.name}; {day}; {movement}; {placement}\")\n",
    "    for j, condition in enumerate(conditions):\n",
    "        lfp = patient.lfp[condition][placement]\n",
    "        pac = patient.pac[condition][placement][placement]\n",
    "        ax = axes[j]\n",
    "        day, ldopa, movement = retrieve_condition_name(condition)\n",
    "        title = f\"{ldopa}\"  # without 180sec\n",
    "        ax.set_title(title)\n",
    "\n",
    "        im = comodulogram(pac.pac_matrix.copy(), \n",
    "                     pac.beta_params, \n",
    "                     pac.hfo_params, \n",
    "                     pvalues=pac.pvalues, \n",
    "                     significant=True, significance=0.01,\n",
    "                     vmax=0.00025, smooth=True,\n",
    "                     ax=ax)\n",
    "        ax.set_xlabel(r\"$f_p$, Hz\")\n",
    "        ax.set_ylabel(r\"$f_A$, Hz\", rotation=0, labelpad=20)\n",
    "        cbar = fig.colorbar(im, ax=ax)\n",
    "        cbar.formatter.set_powerlimits((0, 0))\n",
    "        ax.grid()\n",
    "    plt.tight_layout()\n",
    "    number = str(counter//100) + str(counter//10) + str(counter % 10) \n",
    "    fig_name = f\"{number}.P{patient.name[-1]}_PAC_OFFvsON_{placement}.png\"\n",
    "\n",
    "    plt.savefig(os.path.join(patient.root_dir, \"im\", folder, fig_name));\n",
    "    plt.close(fig)\n",
    "    counter += 1"
   ]
  },
  {
   "cell_type": "markdown",
   "id": "d7cc33e1-0ca2-402e-92d6-f6e2f0d6d88b",
   "metadata": {},
   "source": [
    "## Patient 3"
   ]
  },
  {
   "cell_type": "code",
   "execution_count": 32,
   "id": "c8c41a77-3519-40e9-8b1e-21d29a2b0e82",
   "metadata": {},
   "outputs": [
    {
     "name": "stdout",
     "output_type": "stream",
     "text": [
      "Patient directory:  D:\\LAB\\AlexPAC\\data\\Patient3\n",
      "List of things to make sure before analysis: \n",
      "1) .bdf files are in patient folder (root_dir)\n",
      "2) annotation files share the same name as .bdf files but with _annotations.txt suffix\n",
      "3) annotations share the same naming principle: e.g. 1Day OFF RH (Com)\n"
     ]
    }
   ],
   "source": [
    "p3 = load_patient(3, load_pac=False)\n",
    "p3 = copy_patient(p3)\n",
    "p3.load_all_pacs(verbose=False)"
   ]
  },
  {
   "cell_type": "markdown",
   "id": "64820692-3bba-40c3-9466-9371c1727aa8",
   "metadata": {},
   "source": [
    "### 1DayOFF vs ON Diag"
   ]
  },
  {
   "cell_type": "code",
   "execution_count": 33,
   "id": "9005a0d0-2115-4dde-8827-af4a35fb8423",
   "metadata": {},
   "outputs": [],
   "source": [
    "%matplotlib inline\n",
    "# 1Day Rest OFF vs ON\n",
    "sns.set(context='notebook')\n",
    "\n",
    "patient = p3\n",
    "day = 1\n",
    "conditions = [f\"{day}Day OFF Rest 180sec\", f\"{day}Day ON Rest 180sec\"]\n",
    "folder = os.path.join(patient.root_dir, \"im\", f\"{day}day_OFFvsON\", \"pac_diag\")\n",
    "\n",
    "try:\n",
    "    os.makedirs(folder)\n",
    "except:\n",
    "    pass\n",
    "\n",
    "day, ldopa, movement = retrieve_condition_name(condition)\n",
    "counter = 1\n",
    "for i, placement in enumerate(patient.sorted_placements):\n",
    "    fig, axes = plt.subplots(1, 2, figsize=(11, 4.5))\n",
    "    plt.suptitle(f\"PAC; {patient.name}; {day}; {movement}; {placement}\")\n",
    "    for j, condition in enumerate(conditions):\n",
    "        lfp = patient.lfp[condition][placement]\n",
    "        pac = patient.pac[condition][placement][placement]\n",
    "        ax = axes[j]\n",
    "        day, ldopa, movement = retrieve_condition_name(condition)\n",
    "        title = f\"{ldopa}\"  # without 180sec\n",
    "        ax.set_title(title)\n",
    "\n",
    "        im = comodulogram(pac.pac_matrix.copy(), \n",
    "                     pac.beta_params, \n",
    "                     pac.hfo_params, \n",
    "                     pvalues=pac.pvalues, \n",
    "                     significant=True, significance=0.01,\n",
    "                     vmax=0.00025, smooth=True,\n",
    "                     ax=ax)\n",
    "        ax.set_xlabel(r\"$f_p$, Hz\")\n",
    "        ax.set_ylabel(r\"$f_A$, Hz\", rotation=0, labelpad=20)\n",
    "        cbar = fig.colorbar(im, ax=ax)\n",
    "        cbar.formatter.set_powerlimits((0, 0))\n",
    "        ax.grid()\n",
    "    plt.tight_layout()\n",
    "    number = str(counter//100) + str(counter//10) + str(counter % 10) \n",
    "    fig_name = f\"{number}.P{patient.name[-1]}_PAC_OFFvsON_{placement}.png\"\n",
    "\n",
    "    plt.savefig(os.path.join(patient.root_dir, \"im\", folder, fig_name));\n",
    "    plt.close(fig)\n",
    "    counter += 1"
   ]
  },
  {
   "cell_type": "markdown",
   "id": "c12c3789-3484-4ef4-9b9f-e1ed144f1403",
   "metadata": {},
   "source": [
    "### 5 Day OFF vs ON Diag"
   ]
  },
  {
   "cell_type": "code",
   "execution_count": 34,
   "id": "c77b019e-a473-4d2a-b806-11e4364d3ede",
   "metadata": {},
   "outputs": [],
   "source": [
    "%matplotlib inline\n",
    "# 1Day Rest OFF vs ON\n",
    "sns.set(context='notebook')\n",
    "\n",
    "patient = p3\n",
    "day = 5\n",
    "conditions = [f\"{day}Day OFF Rest 180sec\", f\"{day}Day ON Rest 180sec\"]\n",
    "folder = os.path.join(patient.root_dir, \"im\", f\"{day}day_OFFvsON\", \"pac_diag\")\n",
    "\n",
    "try:\n",
    "    os.makedirs(folder)\n",
    "except:\n",
    "    pass\n",
    "\n",
    "day, ldopa, movement = retrieve_condition_name(condition)\n",
    "counter = 1\n",
    "for i, placement in enumerate(patient.sorted_placements):\n",
    "    fig, axes = plt.subplots(1, 2, figsize=(11, 4.5))\n",
    "    plt.suptitle(f\"PAC; {patient.name}; {day}; {movement}; {placement}\")\n",
    "    for j, condition in enumerate(conditions):\n",
    "        lfp = patient.lfp[condition][placement]\n",
    "        pac = patient.pac[condition][placement][placement]\n",
    "        ax = axes[j]\n",
    "        day, ldopa, movement = retrieve_condition_name(condition)\n",
    "        title = f\"{ldopa}\"  # without 180sec\n",
    "        ax.set_title(title)\n",
    "\n",
    "        im = comodulogram(pac.pac_matrix.copy(), \n",
    "                     pac.beta_params, \n",
    "                     pac.hfo_params, \n",
    "                     pvalues=pac.pvalues, \n",
    "                     significant=True, significance=0.01,\n",
    "                     vmax=0.00025, smooth=True,\n",
    "                     ax=ax)\n",
    "        ax.set_xlabel(r\"$f_p$, Hz\")\n",
    "        ax.set_ylabel(r\"$f_A$, Hz\", rotation=0, labelpad=20)\n",
    "        cbar = fig.colorbar(im, ax=ax)\n",
    "        cbar.formatter.set_powerlimits((0, 0))\n",
    "        ax.grid()\n",
    "    plt.tight_layout()\n",
    "    number = str(counter//100) + str(counter//10) + str(counter % 10) \n",
    "    fig_name = f\"{number}.P{patient.name[-1]}_PAC_OFFvsON_{placement}.png\"\n",
    "\n",
    "    plt.savefig(os.path.join(patient.root_dir, \"im\", folder, fig_name));\n",
    "    plt.close(fig)\n",
    "    counter += 1"
   ]
  },
  {
   "cell_type": "markdown",
   "id": "efa32f82-06d8-41fa-8a53-f59a3775bbe1",
   "metadata": {},
   "source": [
    "## Patient 4"
   ]
  },
  {
   "cell_type": "code",
   "execution_count": 36,
   "id": "3400512c-3db8-4ecc-b6c9-2180761cab6e",
   "metadata": {},
   "outputs": [
    {
     "name": "stdout",
     "output_type": "stream",
     "text": [
      "Patient directory:  D:\\LAB\\AlexPAC\\data\\Patient4\n"
     ]
    },
    {
     "ename": "NameError",
     "evalue": "name 'os' is not defined",
     "output_type": "error",
     "traceback": [
      "\u001b[1;31m---------------------------------------------------------------------------\u001b[0m",
      "\u001b[1;31mNameError\u001b[0m                                 Traceback (most recent call last)",
      "\u001b[1;32m~\\AppData\\Local\\Temp\\ipykernel_33088\\2996247115.py\u001b[0m in \u001b[0;36m<module>\u001b[1;34m\u001b[0m\n\u001b[1;32m----> 1\u001b[1;33m \u001b[0mp4\u001b[0m \u001b[1;33m=\u001b[0m \u001b[0mload_patient\u001b[0m\u001b[1;33m(\u001b[0m\u001b[1;36m4\u001b[0m\u001b[1;33m)\u001b[0m\u001b[1;33m\u001b[0m\u001b[1;33m\u001b[0m\u001b[0m\n\u001b[0m\u001b[0;32m      2\u001b[0m \u001b[0mp4\u001b[0m \u001b[1;33m=\u001b[0m \u001b[0mcopy_patient\u001b[0m\u001b[1;33m(\u001b[0m\u001b[0mp4\u001b[0m\u001b[1;33m)\u001b[0m\u001b[1;33m\u001b[0m\u001b[1;33m\u001b[0m\u001b[0m\n\u001b[0;32m      3\u001b[0m \u001b[0mp4\u001b[0m\u001b[1;33m.\u001b[0m\u001b[0mload_all_pacs\u001b[0m\u001b[1;33m(\u001b[0m\u001b[0mverbose\u001b[0m\u001b[1;33m=\u001b[0m\u001b[1;32mFalse\u001b[0m\u001b[1;33m)\u001b[0m\u001b[1;33m\u001b[0m\u001b[1;33m\u001b[0m\u001b[0m\n",
      "\u001b[1;32m~\\git\\pac\\utility_functions.py\u001b[0m in \u001b[0;36mload_patient\u001b[1;34m(patient_number, load_pac)\u001b[0m\n\u001b[0;32m    262\u001b[0m     \u001b[0mp\u001b[0m\u001b[1;33m.\u001b[0m\u001b[0mroot_dir\u001b[0m \u001b[1;33m=\u001b[0m \u001b[0mp_dir\u001b[0m\u001b[1;33m\u001b[0m\u001b[1;33m\u001b[0m\u001b[0m\n\u001b[0;32m    263\u001b[0m     \u001b[1;32mif\u001b[0m \u001b[0mload_pac\u001b[0m\u001b[1;33m:\u001b[0m\u001b[1;33m\u001b[0m\u001b[1;33m\u001b[0m\u001b[0m\n\u001b[1;32m--> 264\u001b[1;33m         \u001b[0mp\u001b[0m\u001b[1;33m.\u001b[0m\u001b[0mload_all_pacs\u001b[0m\u001b[1;33m(\u001b[0m\u001b[0mverbose\u001b[0m\u001b[1;33m=\u001b[0m\u001b[1;32mFalse\u001b[0m\u001b[1;33m)\u001b[0m\u001b[1;33m\u001b[0m\u001b[1;33m\u001b[0m\u001b[0m\n\u001b[0m\u001b[0;32m    265\u001b[0m     \u001b[1;32mreturn\u001b[0m \u001b[0mp\u001b[0m\u001b[1;33m\u001b[0m\u001b[1;33m\u001b[0m\u001b[0m\n\u001b[0;32m    266\u001b[0m \u001b[1;33m\u001b[0m\u001b[0m\n",
      "\u001b[1;32m~\\git\\pac\\patient_class.py\u001b[0m in \u001b[0;36mload_all_pacs\u001b[1;34m(self, verbose)\u001b[0m\n\u001b[0;32m    367\u001b[0m \u001b[1;33m\u001b[0m\u001b[0m\n\u001b[0;32m    368\u001b[0m     \u001b[1;32mdef\u001b[0m \u001b[0mload_all_pacs\u001b[0m\u001b[1;33m(\u001b[0m\u001b[0mself\u001b[0m\u001b[1;33m,\u001b[0m \u001b[0mverbose\u001b[0m\u001b[1;33m=\u001b[0m\u001b[1;32mTrue\u001b[0m\u001b[1;33m)\u001b[0m\u001b[1;33m:\u001b[0m\u001b[1;33m\u001b[0m\u001b[1;33m\u001b[0m\u001b[0m\n\u001b[1;32m--> 369\u001b[1;33m         \u001b[1;32mfor\u001b[0m \u001b[0mfilename\u001b[0m \u001b[1;32min\u001b[0m \u001b[0mos\u001b[0m\u001b[1;33m.\u001b[0m\u001b[0mlistdir\u001b[0m\u001b[1;33m(\u001b[0m\u001b[0mos\u001b[0m\u001b[1;33m.\u001b[0m\u001b[0mpath\u001b[0m\u001b[1;33m.\u001b[0m\u001b[0mjoin\u001b[0m\u001b[1;33m(\u001b[0m\u001b[0mself\u001b[0m\u001b[1;33m.\u001b[0m\u001b[0mroot_dir\u001b[0m\u001b[1;33m,\u001b[0m \u001b[1;34m'pac'\u001b[0m\u001b[1;33m)\u001b[0m\u001b[1;33m)\u001b[0m\u001b[1;33m:\u001b[0m\u001b[1;33m\u001b[0m\u001b[1;33m\u001b[0m\u001b[0m\n\u001b[0m\u001b[0;32m    370\u001b[0m             \u001b[0mself\u001b[0m\u001b[1;33m.\u001b[0m\u001b[0mload_pac\u001b[0m\u001b[1;33m(\u001b[0m\u001b[0mos\u001b[0m\u001b[1;33m.\u001b[0m\u001b[0mpath\u001b[0m\u001b[1;33m.\u001b[0m\u001b[0mjoin\u001b[0m\u001b[1;33m(\u001b[0m\u001b[0mself\u001b[0m\u001b[1;33m.\u001b[0m\u001b[0mroot_dir\u001b[0m\u001b[1;33m,\u001b[0m \u001b[1;34m'pac'\u001b[0m\u001b[1;33m,\u001b[0m \u001b[0mfilename\u001b[0m\u001b[1;33m)\u001b[0m\u001b[1;33m,\u001b[0m \u001b[0mverbose\u001b[0m\u001b[1;33m=\u001b[0m\u001b[0mverbose\u001b[0m\u001b[1;33m)\u001b[0m\u001b[1;33m\u001b[0m\u001b[1;33m\u001b[0m\u001b[0m\n\u001b[0;32m    371\u001b[0m \u001b[1;33m\u001b[0m\u001b[0m\n",
      "\u001b[1;31mNameError\u001b[0m: name 'os' is not defined"
     ]
    }
   ],
   "source": [
    "p4 = load_patient(4)\n",
    "p4 = copy_patient(p4)\n",
    "p4.load_all_pacs(verbose=False)"
   ]
  },
  {
   "cell_type": "markdown",
   "id": "5da33b3a-5f6c-45c0-af3d-bdb96236baba",
   "metadata": {},
   "source": [
    "### 1DayOFF vs ON Diag"
   ]
  },
  {
   "cell_type": "code",
   "execution_count": 33,
   "id": "cce24659-3b89-41a0-8f54-4f15f9413ad8",
   "metadata": {},
   "outputs": [],
   "source": [
    "%matplotlib inline\n",
    "# 1Day Rest OFF vs ON\n",
    "sns.set(context='notebook')\n",
    "\n",
    "patient = p3\n",
    "day = 1\n",
    "conditions = [f\"{day}Day OFF Rest 180sec\", f\"{day}Day ON Rest 180sec\"]\n",
    "folder = os.path.join(patient.root_dir, \"im\", f\"{day}day_OFFvsON\", \"pac_diag\")\n",
    "\n",
    "try:\n",
    "    os.makedirs(folder)\n",
    "except:\n",
    "    pass\n",
    "\n",
    "day, ldopa, movement = retrieve_condition_name(condition)\n",
    "counter = 1\n",
    "for i, placement in enumerate(patient.sorted_placements):\n",
    "    fig, axes = plt.subplots(1, 2, figsize=(11, 4.5))\n",
    "    plt.suptitle(f\"PAC; {patient.name}; {day}; {movement}; {placement}\")\n",
    "    for j, condition in enumerate(conditions):\n",
    "        lfp = patient.lfp[condition][placement]\n",
    "        pac = patient.pac[condition][placement][placement]\n",
    "        ax = axes[j]\n",
    "        day, ldopa, movement = retrieve_condition_name(condition)\n",
    "        title = f\"{ldopa}\"  # without 180sec\n",
    "        ax.set_title(title)\n",
    "\n",
    "        im = comodulogram(pac.pac_matrix.copy(), \n",
    "                     pac.beta_params, \n",
    "                     pac.hfo_params, \n",
    "                     pvalues=pac.pvalues, \n",
    "                     significant=True, significance=0.01,\n",
    "                     vmax=0.00025, smooth=True,\n",
    "                     ax=ax)\n",
    "        ax.set_xlabel(r\"$f_p$, Hz\")\n",
    "        ax.set_ylabel(r\"$f_A$, Hz\", rotation=0, labelpad=20)\n",
    "        cbar = fig.colorbar(im, ax=ax)\n",
    "        cbar.formatter.set_powerlimits((0, 0))\n",
    "        ax.grid()\n",
    "    plt.tight_layout()\n",
    "    number = str(counter//100) + str(counter//10) + str(counter % 10) \n",
    "    fig_name = f\"{number}.P{patient.name[-1]}_PAC_OFFvsON_{placement}.png\"\n",
    "\n",
    "    plt.savefig(os.path.join(patient.root_dir, \"im\", folder, fig_name));\n",
    "    plt.close(fig)\n",
    "    counter += 1"
   ]
  },
  {
   "cell_type": "markdown",
   "id": "4440288d-ca6e-4927-a4f6-5866f310d83a",
   "metadata": {},
   "source": [
    "### 5 Day OFF vs ON Diag"
   ]
  },
  {
   "cell_type": "code",
   "execution_count": 34,
   "id": "41133e29-21a6-435d-bcd1-18c2f1c95b5e",
   "metadata": {},
   "outputs": [],
   "source": [
    "%matplotlib inline\n",
    "# 1Day Rest OFF vs ON\n",
    "sns.set(context='notebook')\n",
    "\n",
    "patient = p3\n",
    "day = 5\n",
    "conditions = [f\"{day}Day OFF Rest 180sec\", f\"{day}Day ON Rest 180sec\"]\n",
    "folder = os.path.join(patient.root_dir, \"im\", f\"{day}day_OFFvsON\", \"pac_diag\")\n",
    "\n",
    "try:\n",
    "    os.makedirs(folder)\n",
    "except:\n",
    "    pass\n",
    "\n",
    "day, ldopa, movement = retrieve_condition_name(condition)\n",
    "counter = 1\n",
    "for i, placement in enumerate(patient.sorted_placements):\n",
    "    fig, axes = plt.subplots(1, 2, figsize=(11, 4.5))\n",
    "    plt.suptitle(f\"PAC; {patient.name}; {day}; {movement}; {placement}\")\n",
    "    for j, condition in enumerate(conditions):\n",
    "        lfp = patient.lfp[condition][placement]\n",
    "        pac = patient.pac[condition][placement][placement]\n",
    "        ax = axes[j]\n",
    "        day, ldopa, movement = retrieve_condition_name(condition)\n",
    "        title = f\"{ldopa}\"  # without 180sec\n",
    "        ax.set_title(title)\n",
    "\n",
    "        im = comodulogram(pac.pac_matrix.copy(), \n",
    "                     pac.beta_params, \n",
    "                     pac.hfo_params, \n",
    "                     pvalues=pac.pvalues, \n",
    "                     significant=True, significance=0.01,\n",
    "                     vmax=0.00025, smooth=True,\n",
    "                     ax=ax)\n",
    "        ax.set_xlabel(r\"$f_p$, Hz\")\n",
    "        ax.set_ylabel(r\"$f_A$, Hz\", rotation=0, labelpad=20)\n",
    "        cbar = fig.colorbar(im, ax=ax)\n",
    "        cbar.formatter.set_powerlimits((0, 0))\n",
    "        ax.grid()\n",
    "    plt.tight_layout()\n",
    "    number = str(counter//100) + str(counter//10) + str(counter % 10) \n",
    "    fig_name = f\"{number}.P{patient.name[-1]}_PAC_OFFvsON_{placement}.png\"\n",
    "\n",
    "    plt.savefig(os.path.join(patient.root_dir, \"im\", folder, fig_name));\n",
    "    plt.close(fig)\n",
    "    counter += 1"
   ]
  }
 ],
 "metadata": {
  "kernelspec": {
   "display_name": "Python 3 (ipykernel)",
   "language": "python",
   "name": "python3"
  },
  "language_info": {
   "codemirror_mode": {
    "name": "ipython",
    "version": 3
   },
   "file_extension": ".py",
   "mimetype": "text/x-python",
   "name": "python",
   "nbconvert_exporter": "python",
   "pygments_lexer": "ipython3",
   "version": "3.8.11"
  }
 },
 "nbformat": 4,
 "nbformat_minor": 5
}
